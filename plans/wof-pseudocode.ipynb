{
 "cells": [
  {
   "cell_type": "markdown",
   "id": "64a5da54",
   "metadata": {},
   "source": [
    "# Wheel of Fortune\n",
    "\n"
   ]
  },
  {
   "cell_type": "markdown",
   "id": "d0d6b205",
   "metadata": {},
   "source": [
    "## Pseudocode\n",
    "\n",
    "**Start Game Play**\n",
    "* Initiate three players w/ roundtotal, gametotal, and name placeholders\n",
    "* Ask players to enter their name\n",
    "> * Import the names to the placeholders\n",
    "\n",
    "**Start Round 1/2**\n",
    "* Pick random word from dictionary file\n",
    "* Pick a player at random to start the round\n",
    "\n",
    "> * Player spins the wheel\n",
    "> > * Wheel lands on a number\n",
    "> > > * Player guesses consonant and is right\n",
    "> > > > * Player gets money(add to roundtotal) and consonants are revealed in the word; spin again\n",
    "> > > * Player guesses consonant and is wrong\n",
    "> > > > * Player gets no money and their turn ends\n",
    "> > * Wheel lands on BANKRUPT\n",
    "> > > * Player's roundtotal goes to zero and their turn ends\n",
    "> > * Wheel lands on LOSE A TURN\n",
    "> > > * Player's turn ends\n",
    "> * Buy vowel (&#36;250)\n",
    "> > * Vowel appears in word; can go again\n",
    "> > * Vowel does not appear; turn ends\n",
    "> * Guess the word\n",
    "> > * Player succesfuly guesses answer\n",
    "> > > * Player wins the round, adds money to gametotal, and round is over; move to next round\n",
    "> > * Player guesses word wrong\n",
    "> > > * Player's turn ends\n",
    "\n",
    "* Next player's turn; repeat the options above\n",
    "\n",
    "**Wheel Spin Values**\n",
    "* 19 total\n",
    "> * 1 BANKRUPT\n",
    "> * 1 LOSE A TURN\n",
    "> * 17 cash values (100 - 900 in increments of 50)\n",
    "\n",
    "**Final Round**\n",
    "* Choose the player with the highest game total to play final round\n",
    "* getword for final round and reveal R-L-S-T-N-E\n",
    "* Allow player three more consonant choices\n",
    "* Allow player one more vowel choice\n",
    "* Reveal any correct guesses in word\n",
    "* Allow player one word guess\n",
    "* If correct, award prize money. If incorrect, only award gametotal so far"
   ]
  },
  {
   "cell_type": "code",
   "execution_count": null,
   "id": "619f918c",
   "metadata": {},
   "outputs": [],
   "source": []
  }
 ],
 "metadata": {
  "kernelspec": {
   "display_name": "Python 3 (ipykernel)",
   "language": "python",
   "name": "python3"
  },
  "language_info": {
   "codemirror_mode": {
    "name": "ipython",
    "version": 3
   },
   "file_extension": ".py",
   "mimetype": "text/x-python",
   "name": "python",
   "nbconvert_exporter": "python",
   "pygments_lexer": "ipython3",
   "version": "3.9.12"
  }
 },
 "nbformat": 4,
 "nbformat_minor": 5
}
